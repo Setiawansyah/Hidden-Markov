{
  "nbformat": 4,
  "nbformat_minor": 0,
  "metadata": {
    "colab": {
      "name": "Tugas Praktikum HMM - Setiawansyah.ipynb",
      "provenance": [],
      "authorship_tag": "ABX9TyO6Cr6z7hj+98UzjgqhJtlp",
      "include_colab_link": true
    },
    "kernelspec": {
      "name": "python3",
      "display_name": "Python 3"
    },
    "language_info": {
      "name": "python"
    }
  },
  "cells": [
    {
      "cell_type": "markdown",
      "metadata": {
        "id": "view-in-github",
        "colab_type": "text"
      },
      "source": [
        "<a href=\"https://colab.research.google.com/github/Setiawansyah/Hidden-Markov/blob/main/Tugas_Praktikum_HMM_Setiawansyah.ipynb\" target=\"_parent\"><img src=\"https://colab.research.google.com/assets/colab-badge.svg\" alt=\"Open In Colab\"/></a>"
      ]
    },
    {
      "cell_type": "code",
      "metadata": {
        "colab": {
          "base_uri": "https://localhost:8080/"
        },
        "id": "UYanEuEm7yd5",
        "outputId": "bce7316c-087b-4045-d3ec-f869e5fa472f"
      },
      "source": [
        "# Definisi Matrik Transisi (states)\n",
        "states = ('Rainy', 'Sunny')\n",
        " \n",
        "# definisi Matriks Observasi / Matrik emmisi    \n",
        "observations = ('walk', 'shop', 'clean')\n",
        "\n",
        "# definisi Matriks Priority\n",
        "start_probability = {'Rainy': 0.6, 'Sunny': 0.4}\n",
        " \n",
        "transition_probability = {\n",
        "   'Rainy' : {'Rainy': 0.7, 'Sunny': 0.3},\n",
        "   'Sunny' : {'Rainy': 0.4, 'Sunny': 0.6},\n",
        "   }\n",
        " \n",
        "emission_probability = {\n",
        "   'Rainy' : {'walk': 0.1, 'shop': 0.4, 'clean': 0.5},\n",
        "   'Sunny' : {'walk': 0.6, 'shop': 0.3, 'clean': 0.1},\n",
        "   }\n",
        "from hmmlearn import hmm\n",
        "import numpy as np\n",
        "\n",
        "model = hmm.MultinomialHMM(n_components=2)\n",
        "model.startprob_ = np.array([0.6, 0.4])\n",
        "model.transmat_ = np.array([[0.7, 0.3],\n",
        "                            [0.4, 0.6]])\n",
        "model.emissionprob_ = np.array([[0.1, 0.4, 0.5],\n",
        "                                [0.6, 0.3, 0.1]])\n",
        "import math \n",
        "logprob, seq = model.decode(np.array([[2,2,1,1,0]]).transpose())\n",
        "print(math.exp(logprob))\n",
        "print(seq)"
      ],
      "execution_count": 16,
      "outputs": [
        {
          "output_type": "stream",
          "name": "stdout",
          "text": [
            "0.00148176\n",
            "[0 0 0 0 1]\n"
          ]
        }
      ]
    },
    {
      "cell_type": "code",
      "metadata": {
        "colab": {
          "base_uri": "https://localhost:8080/"
        },
        "id": "qo3Gp6858Rtp",
        "outputId": "9fb6aea4-777f-4b55-85fb-4193b9439a7b"
      },
      "source": [
        "# Definisi Matrik Transisi (states)\n",
        "states = ('Rainy', 'Sunny')\n",
        " \n",
        "# definisi Matriks Observasi / Matrik emmisi    \n",
        "observations = ('walk', 'shop', 'clean')\n",
        "\n",
        "# definisi Matriks Priority\n",
        "start_probability = {'Rainy': 0.6, 'Sunny': 0.4}\n",
        " \n",
        "transition_probability = {\n",
        "   'Rainy' : {'Rainy': 0.7, 'Sunny': 0.3},\n",
        "   'Sunny' : {'Rainy': 0.4, 'Sunny': 0.6},\n",
        "   }\n",
        " \n",
        "emission_probability = {\n",
        "   'Rainy' : {'walk': 0.1, 'shop': 0.4, 'clean': 0.5},\n",
        "   'Sunny' : {'walk': 0.6, 'shop': 0.3, 'clean': 0.1},\n",
        "   }\n",
        "from hmmlearn import hmm\n",
        "import numpy as np\n",
        "\n",
        "model = hmm.MultinomialHMM(n_components=2)\n",
        "model.startprob_ = np.array([0.6, 0.4])\n",
        "model.transmat_ = np.array([[0.7, 0.3],\n",
        "                            [0.4, 0.6]])\n",
        "model.emissionprob_ = np.array([[0.1, 0.4, 0.5],\n",
        "                                [0.6, 0.3, 0.1]])\n",
        "\n",
        "import math \n",
        "math.exp(model.score(np.array([[2,2,1,1,0]])))\n"
      ],
      "execution_count": 18,
      "outputs": [
        {
          "output_type": "execute_result",
          "data": {
            "text/plain": [
              "0.004916048000000001"
            ]
          },
          "metadata": {},
          "execution_count": 18
        }
      ]
    }
  ]
}